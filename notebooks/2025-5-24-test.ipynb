{
 "cells": [
  {
   "cell_type": "markdown",
   "id": "6e43f9bc",
   "metadata": {},
   "source": [
    "# Title: My Excellent Blog Post"
   ]
  },
  {
   "cell_type": "markdown",
   "id": "561e2e57",
   "metadata": {},
   "source": [
    "This is a test! Hello World!"
   ]
  },
  {
   "cell_type": "code",
   "execution_count": null,
   "id": "d9d54be3",
   "metadata": {},
   "outputs": [
    {
     "name": "stdout",
     "output_type": "stream",
     "text": [
      "Hello World!\n"
     ]
    }
   ],
   "source": [
    "print(\"Hello World!\")"
   ]
  },
  {
   "cell_type": "markdown",
   "id": "f09ec565",
   "metadata": {},
   "source": [
    "HELLO!!!"
   ]
  },
  {
   "cell_type": "markdown",
   "id": "2dc15dfa",
   "metadata": {},
   "source": [
    "goodbye."
   ]
  },
  {
   "cell_type": "markdown",
   "id": "fc1bc879",
   "metadata": {},
   "source": [
    "just kidding! hello again!"
   ]
  }
 ],
 "metadata": {
  "kernelspec": {
   "display_name": "Python 3",
   "language": "python",
   "name": "python3"
  },
  "language_info": {
   "codemirror_mode": {
    "name": "ipython",
    "version": 3
   },
   "file_extension": ".py",
   "mimetype": "text/x-python",
   "name": "python",
   "nbconvert_exporter": "python",
   "pygments_lexer": "ipython3",
   "version": "3.10.5"
  }
 },
 "nbformat": 4,
 "nbformat_minor": 5
}
