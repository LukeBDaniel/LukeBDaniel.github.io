{
 "cells": [
  {
   "cell_type": "markdown",
   "id": "6e43f9bc",
   "metadata": {},
   "source": [
    "# Title: My Excellent Blog Post"
   ]
  },
  {
   "cell_type": "markdown",
   "id": "561e2e57",
   "metadata": {},
   "source": [
    "This is a test!!"
   ]
  },
  {
   "cell_type": "code",
   "execution_count": 1,
   "id": "d9d54be3",
   "metadata": {},
   "outputs": [
    {
     "name": "stdout",
     "output_type": "stream",
     "text": [
      "Hello World!\n"
     ]
    }
   ],
   "source": [
    "print(\"Hello World!\")"
   ]
  },
  {
   "cell_type": "code",
   "execution_count": 3,
   "id": "bf731c24",
   "metadata": {},
   "outputs": [
    {
     "name": "stdout",
     "output_type": "stream",
     "text": [
      "Goodbye World.\n"
     ]
    }
   ],
   "source": [
    "# INCLUDE\n",
    "print(\"Goodbye World.\")"
   ]
  }
 ],
 "metadata": {
  "kernelspec": {
   "display_name": "Python 3",
   "language": "python",
   "name": "python3"
  },
  "language_info": {
   "codemirror_mode": {
    "name": "ipython",
    "version": 3
   },
   "file_extension": ".py",
   "mimetype": "text/x-python",
   "name": "python",
   "nbconvert_exporter": "python",
   "pygments_lexer": "ipython3",
   "version": "3.10.5"
  }
 },
 "nbformat": 4,
 "nbformat_minor": 5
}
